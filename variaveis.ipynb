{
 "cells": [
  {
   "cell_type": "code",
   "execution_count": null,
   "metadata": {},
   "outputs": [],
   "source": [
    "# Digamos que trabalhamos em uma escola e queremos lidar com a idade de uma aluno, \n",
    "# para armazenar, podemo guardar em uma variável\n",
    "\n",
    "idade = 5\n",
    "\n",
    "print(idade)\n",
    "\n",
    "# Agora digamos que passou 5 anos, esse aluno mudou de idade ao longo do tempo\n",
    "idade = 10\n",
    "print(idade)\n",
    "\n",
    "# Agora digamos que passou mais 5 anos\n",
    "idade = 15\n",
    "print(idade)\n",
    "\n",
    "# Agora vamos declarar um nome\n",
    "nome = \"Gabriel\"\n",
    "print(nome)"
   ]
  }
 ],
 "metadata": {
  "language_info": {
   "name": "python"
  }
 },
 "nbformat": 4,
 "nbformat_minor": 2
}
